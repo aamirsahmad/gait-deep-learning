{
  "nbformat": 4,
  "nbformat_minor": 0,
  "metadata": {
    "colab": {
      "name": "LSTM_1.ipynb",
      "provenance": [],
      "collapsed_sections": []
    },
    "kernelspec": {
      "name": "python3",
      "display_name": "Python 3"
    },
    "accelerator": "GPU"
  },
  "cells": [
    {
      "cell_type": "markdown",
      "metadata": {
        "id": "-10z6f8CgEcf",
        "colab_type": "text"
      },
      "source": [
        "# Initialize runtime"
      ]
    },
    {
      "cell_type": "code",
      "metadata": {
        "colab_type": "code",
        "outputId": "7db4ae7c-2fdc-43dc-9b3d-e5347da7c748",
        "id": "Tz5Pea6PKxYI",
        "colab": {
          "base_uri": "https://localhost:8080/",
          "height": 212
        }
      },
      "source": [
        "import tensorflow as tf\n",
        "print('***** TENSORFLOW version', tf.__version__)\n",
        "\n",
        "if tf.__version__ == '1.15.0':\n",
        "  print('Installing latest version of TF', tf.__version__)\n",
        "  !pip uninstall tensorflow -y\n",
        "  !pip install tensorflow-gpu\n",
        "!pip3 install sklearn\n",
        "!pip3 install pandas"
      ],
      "execution_count": 0,
      "outputs": [
        {
          "output_type": "stream",
          "text": [
            "***** TENSORFLOW version 2.2.0-rc2\n",
            "Requirement already satisfied: sklearn in /usr/local/lib/python3.6/dist-packages (0.0)\n",
            "Requirement already satisfied: scikit-learn in /usr/local/lib/python3.6/dist-packages (from sklearn) (0.22.2.post1)\n",
            "Requirement already satisfied: scipy>=0.17.0 in /usr/local/lib/python3.6/dist-packages (from scikit-learn->sklearn) (1.4.1)\n",
            "Requirement already satisfied: numpy>=1.11.0 in /usr/local/lib/python3.6/dist-packages (from scikit-learn->sklearn) (1.18.2)\n",
            "Requirement already satisfied: joblib>=0.11 in /usr/local/lib/python3.6/dist-packages (from scikit-learn->sklearn) (0.14.1)\n",
            "Requirement already satisfied: pandas in /usr/local/lib/python3.6/dist-packages (1.0.3)\n",
            "Requirement already satisfied: python-dateutil>=2.6.1 in /usr/local/lib/python3.6/dist-packages (from pandas) (2.8.1)\n",
            "Requirement already satisfied: pytz>=2017.2 in /usr/local/lib/python3.6/dist-packages (from pandas) (2018.9)\n",
            "Requirement already satisfied: numpy>=1.13.3 in /usr/local/lib/python3.6/dist-packages (from pandas) (1.18.2)\n",
            "Requirement already satisfied: six>=1.5 in /usr/local/lib/python3.6/dist-packages (from python-dateutil>=2.6.1->pandas) (1.12.0)\n"
          ],
          "name": "stdout"
        }
      ]
    },
    {
      "cell_type": "markdown",
      "metadata": {
        "id": "gpQaVvDOKmfO",
        "colab_type": "text"
      },
      "source": [
        "# Print runtime"
      ]
    },
    {
      "cell_type": "code",
      "metadata": {
        "id": "PLxRvUmKe7f7",
        "colab_type": "code",
        "outputId": "d7809b50-644a-473b-ba85-ea2b82b212dd",
        "colab": {
          "base_uri": "https://localhost:8080/",
          "height": 34
        }
      },
      "source": [
        "import tensorflow as tf\n",
        "print(tf.__version__)"
      ],
      "execution_count": 0,
      "outputs": [
        {
          "output_type": "stream",
          "text": [
            "2.2.0-rc2\n"
          ],
          "name": "stdout"
        }
      ]
    },
    {
      "cell_type": "markdown",
      "metadata": {
        "id": "fIDK7-d9lPGi",
        "colab_type": "text"
      },
      "source": [
        "# Mount Google Drive"
      ]
    },
    {
      "cell_type": "code",
      "metadata": {
        "id": "yKOEldzrlSMH",
        "colab_type": "code",
        "outputId": "fe41d3de-2a0e-495e-9919-add3da28005f",
        "colab": {
          "base_uri": "https://localhost:8080/",
          "height": 125
        }
      },
      "source": [
        "from google.colab import drive\n",
        "drive.mount('/content/drive')"
      ],
      "execution_count": 0,
      "outputs": [
        {
          "output_type": "stream",
          "text": [
            "Go to this URL in a browser: https://accounts.google.com/o/oauth2/auth?client_id=947318989803-6bn6qk8qdgf4n4g3pfee6491hc0brc4i.apps.googleusercontent.com&redirect_uri=urn%3aietf%3awg%3aoauth%3a2.0%3aoob&response_type=code&scope=email%20https%3a%2f%2fwww.googleapis.com%2fauth%2fdocs.test%20https%3a%2f%2fwww.googleapis.com%2fauth%2fdrive%20https%3a%2f%2fwww.googleapis.com%2fauth%2fdrive.photos.readonly%20https%3a%2f%2fwww.googleapis.com%2fauth%2fpeopleapi.readonly\n",
            "\n",
            "Enter your authorization code:\n",
            "··········\n",
            "Mounted at /content/drive\n"
          ],
          "name": "stdout"
        }
      ]
    },
    {
      "cell_type": "markdown",
      "metadata": {
        "id": "00WE823whNJJ",
        "colab_type": "text"
      },
      "source": [
        "# Load data, Process data"
      ]
    },
    {
      "cell_type": "code",
      "metadata": {
        "id": "NaD8HbmGhTJi",
        "colab_type": "code",
        "outputId": "b92e3fe6-a6fe-4586-f7a8-064683e1b85f",
        "colab": {
          "base_uri": "https://localhost:8080/",
          "height": 87
        }
      },
      "source": [
        "import os\n",
        "import numpy as np\n",
        "import tensorflow as tf\n",
        "import sys\n",
        "# -------------- for lstm\n",
        "def load_X(path):\n",
        "  # try:\n",
        "  the_file = None\n",
        "  X_signals = []\n",
        "  files = os.listdir(path)\n",
        "  files.sort(key=str.lower)\n",
        "  for my_file in files:\n",
        "      the_file = my_file\n",
        "      fileName = os.path.join(path, my_file)\n",
        "      file = open(fileName, 'r')\n",
        "      X_signals.append(\n",
        "          [np.array(cell, dtype=np.float32) for cell in [\n",
        "              row.strip().split(' ') for row in file\n",
        "          ]]\n",
        "      )\n",
        "      file.close()\n",
        "      # X_signals = 6*totalStepNum*128\n",
        "  return np.transpose(np.array(X_signals), (1, 2, 0)) \n",
        "  # except:\n",
        "  #   print(the_file)\n",
        "  #   print(np.array(X_signals).shape)\n",
        "  #   sys.exit()\n",
        "    #                               0              1    2   \n",
        "    # lstm input shape = (total_num_of_trials x 128 x 6)\n",
        "\n",
        "\n",
        "def load_y(y_path):\n",
        "    file = open(y_path, 'r')\n",
        "    # Read dataset from disk, dealing with text file's syntax\n",
        "    y_ = np.array(\n",
        "        [elem for elem in [\n",
        "            row.replace('  ', ' ').strip().split(' ') for row in file\n",
        "        ]],\n",
        "        dtype=np.int32\n",
        "    )\n",
        "    file.close()\n",
        "    # Substract 1 to each output class for friendly 0-based indexing\n",
        "    y_ = y_ - 1\n",
        "    # one_hot\n",
        "    y_ = y_.reshape(len(y_))\n",
        "    n_values = int(np.max(y_)) + 1\n",
        "    return np.eye(n_values)[np.array(y_, dtype=np.int32)]  # Returns FLOATS\n",
        "\n",
        "def load_dataset(path):\n",
        "    X_signals = []\n",
        "    files = os.listdir(path)\n",
        "    files.sort(key=str.lower)\n",
        "    for my_file in files:\n",
        "        fileName = os.path.join(path, my_file)\n",
        "        file = open(fileName, 'r')\n",
        "        X_signals.append(\n",
        "            [np.array(cell, dtype=np.float32) for cell in [\n",
        "                row.strip().split(' ') for row in file\n",
        "            ]]\n",
        "        )\n",
        "        file.close()\n",
        "    return np.transpose(np.array(X_signals), (1, 2, 0)) \n",
        "\n",
        "def load_labels(path):\n",
        "    file = open(path, 'r')\n",
        "    # Read dataset from disk, dealing with text file's syntax\n",
        "    y_ = np.array(\n",
        "        [elem for elem in [\n",
        "            row.replace('  ', ' ').strip().split(' ') for row in file\n",
        "        ]],\n",
        "        dtype=np.int32\n",
        "    )\n",
        "    file.close()\n",
        "    # Substract 1 to each output class for friendly 0-based indexing\n",
        "    y_ = y_ - 1\n",
        "    # one_hot\n",
        "    y_ = y_.reshape(len(y_))\n",
        "    n_values = int(np.max(y_)) + 1\n",
        "    return np.eye(n_values)[np.array(y_, dtype=np.int32)]  # Returns FLOATS\n",
        "\n",
        "### new way of loading data; this will replace the existing way\n",
        "def load_data(train_split=0.8, validate_split=0.0, test_split=0.2):\n",
        "  dataset = load_dataset(path + '/train')\n",
        "  labels = load_labels(path + '/y_train.txt')\n",
        "\n",
        "  n = len(dataset)\n",
        "\n",
        "  print('Total samples: ', len(labels), '\\n')\n",
        "\n",
        "  # split data into training, validation and testing\n",
        "  x_train = dataset[:int(n*train_split)]\n",
        "  x_validate = dataset[-int(n*validate_split):]\n",
        "  x_test = dataset[-int(n*test_split):]\n",
        "\n",
        "  # split labels into training, validation and testing\n",
        "  y_train = labels[:int(n*train_split)]\n",
        "  y_validate = labels[-int(n*validate_split):]\n",
        "  y_test = labels[-int(n*test_split):]\n",
        "\n",
        "  return (x_train, y_train), (x_validate, y_validate), (x_test, y_test)\n",
        "\n",
        "legacy = True\n",
        "\n",
        "if legacy:\n",
        "  # path = '/content/drive/My Drive/dataset/' + 'Dataset#1'\n",
        "  \n",
        "  # path = '/content/drive/My Drive/eecs4088/zou/dataset/Dataset#2'\n",
        "  # path = '/content/drive/My Drive/eecs4088/zou/dataset/Dataset#1'\n",
        "  # path = '/content/drive/My Drive/eecs4088/zou/dataset/d1_4unique_4overlap'\n",
        "  # path = '/content/drive/My Drive/eecs4088/zou/dataset/d1_1unique_0overlap'\n",
        "  # path = '/content/drive/My Drive/eecs4088/zou/dataset/half_unique'\n",
        "  # path = '/content/drive/My Drive/Gait Identification and Analysis/datasets/human-gait-db/89-subjects-one-session-d1'\n",
        "\n",
        "  # path = '/content/drive/My Drive/eecs4088/zou/dataset/Dataset#3'\n",
        "  path = '/content/drive/My Drive/eecs4088/zou/dataset/human-gait-db/89-subjects-one-session-d1'\n",
        "  X = load_X(path + '/imu')\n",
        "  # X_test = load_X(path + '/test/InertialSignals')\n",
        "  y = load_y(path + '/labels/train_id.txt')\n",
        "  # test_label = load_y(path + '/test/y_test.txt')\n",
        "\n",
        "  # X_train = load_X(path + '/train/InertialSignals')\n",
        "  # X_test = load_X(path + '/test/InertialSignals')\n",
        "  # train_label = load_y(path + '/train/y_train.txt')\n",
        "  # test_label = load_y(path + '/test/y_test.txt')\n",
        "  number_of_subjects = 118\n",
        "else:\n",
        "  path = '/content/drive/My Drive/eecs4088/zou/dataset/Dataset#1'\n",
        "  number_of_subjects = 118\n",
        "  (X_train, train_label), (X_validate, validate_label), (X_test, test_label) = load_data(train_split=0.8, validate_split=0.1, test_split=0.1)\n",
        "\n",
        "print('X_train.shape : ', X_train.shape, '\\n')\n",
        "# print('X_validate.shape : ', X_validate.shape, '\\n')\n",
        "print('X_test.shape : ', X_test.shape, '\\n')"
      ],
      "execution_count": 0,
      "outputs": [
        {
          "output_type": "stream",
          "text": [
            "X_train.shape :  (26283, 128, 6) \n",
            "\n",
            "X_test.shape :  (2991, 128, 6) \n",
            "\n"
          ],
          "name": "stdout"
        }
      ]
    },
    {
      "cell_type": "markdown",
      "metadata": {
        "id": "SBS-l4LO1hR4",
        "colab_type": "text"
      },
      "source": [
        "split proeprly\n"
      ]
    },
    {
      "cell_type": "code",
      "metadata": {
        "id": "XUaHA4_r1i3z",
        "colab_type": "code",
        "colab": {}
      },
      "source": [
        "from sklearn.model_selection import train_test_split\n",
        "# X = np.concatenate((X_train, X_test), axis=0)\n",
        "# display(X.shape)\n",
        "# y = np.concatenate((train_label, test_label), axis=0)\n",
        "\n",
        "X_train, X_test, train_label, test_label = train_test_split(X, y, test_size=0.1, random_state=42)"
      ],
      "execution_count": 0,
      "outputs": []
    },
    {
      "cell_type": "markdown",
      "metadata": {
        "id": "uo2PaoGPJ616",
        "colab_type": "text"
      },
      "source": [
        "# Check data"
      ]
    },
    {
      "cell_type": "code",
      "metadata": {
        "id": "HiYlabsauujF",
        "colab_type": "code",
        "outputId": "7a918eaa-a797-419b-aee5-361b9ef08d76",
        "colab": {
          "base_uri": "https://localhost:8080/",
          "height": 141
        }
      },
      "source": [
        "# X_train = X_train[:-104]\n",
        "# train_label = train_label[:-104]\n",
        "\n",
        "# X_test = X_test[:-240]\n",
        "# test_label = test_label[:-240]\n",
        "import numpy as np\n",
        "print('X_train.shape : ', X_train.shape)\n",
        "print('len(train_label) : ', len(train_label))\n",
        "print('X_test.shape : ', X_test.shape)\n",
        "print('len(test_label) : ', len(test_label))\n",
        "print(number_of_subjects)\n",
        "print(np.unique(train_label).shape)\n",
        "\n",
        "print((np.unique(test_label.squeeze().argmax(axis=1))).shape)\n",
        "\n",
        "# todo: check data points per subject are roughly equivalent"
      ],
      "execution_count": 0,
      "outputs": [
        {
          "output_type": "stream",
          "text": [
            "X_train.shape :  (33691, 64, 6)\n",
            "len(train_label) :  33691\n",
            "X_test.shape :  (3685, 64, 6)\n",
            "len(test_label) :  3685\n",
            "118\n",
            "(2,)\n",
            "(118,)\n"
          ],
          "name": "stdout"
        }
      ]
    },
    {
      "cell_type": "markdown",
      "metadata": {
        "id": "yRNU0XsbofO4",
        "colab_type": "text"
      },
      "source": [
        "[link text](https://)Resampling imbalanced data"
      ]
    },
    {
      "cell_type": "code",
      "metadata": {
        "id": "5CHsTK4PohBT",
        "colab_type": "code",
        "outputId": "89a8c547-22e2-463f-ed53-6fcc5550364b",
        "colab": {
          "base_uri": "https://localhost:8080/",
          "height": 267
        }
      },
      "source": [
        "# Technique # 1: Under-sample based on randomly picking samples with or without replacement\n",
        "# Docs: https://imbalanced-learn.readthedocs.io/en/stable/generated/imblearn.under_sampling.RandomUnderSampler.html\n",
        "from imblearn.under_sampling import RandomUnderSampler\n",
        "rus = RandomUnderSampler(sampling_strategy='majority', random_state=None, replacement=False)\n",
        "\n",
        "from imblearn.over_sampling import SMOTE\n",
        "smote = SMOTE(sampling_strategy='minority', random_state=None, k_neighbors=5)\n",
        "from imblearn.combine import SMOTEENN\n",
        "sme = SMOTEENN(sampling_strategy='all', random_state=None, smote=smote, enn=None)\n",
        "\n",
        "dataPoints = 64\n",
        "import copy\n",
        "arr = copy.deepcopy(X_train)\n",
        "print('train_label', train_label.shape)\n",
        "orig_shape = arr.shape\n",
        "print('orig shape', orig_shape)\n",
        "\n",
        "print((arr.shape[1]*arr.shape[2] ))\n",
        "\n",
        "\n",
        "arr = np.reshape(arr, (arr.shape[0], (arr.shape[1]*arr.shape[2] )))\n",
        "print('reshaped', arr.shape)\n",
        "\n",
        "arr, arr_2 = smote.fit_sample(arr, train_label)\n",
        "\n",
        "print('resampled train', arr.shape)\n",
        "print('resampled train_label', arr_2.shape)\n",
        "\n",
        "arr = np.reshape(arr, (-1,dataPoints,6))\n",
        "print('undo to orig shape', arr.shape)\n",
        "\n",
        "X_train = arr\n",
        "train_label = arr_2\n",
        "# X_train = arr"
      ],
      "execution_count": 0,
      "outputs": [
        {
          "output_type": "stream",
          "text": [
            "/usr/local/lib/python3.6/dist-packages/sklearn/externals/six.py:31: FutureWarning: The module is deprecated in version 0.21 and will be removed in version 0.23 since we've dropped support for Python 2.7. Please rely on the official version of six (https://pypi.org/project/six/).\n",
            "  \"(https://pypi.org/project/six/).\", FutureWarning)\n",
            "/usr/local/lib/python3.6/dist-packages/sklearn/utils/deprecation.py:144: FutureWarning: The sklearn.neighbors.base module is  deprecated in version 0.22 and will be removed in version 0.24. The corresponding classes / functions should instead be imported from sklearn.neighbors. Anything that cannot be imported from sklearn.neighbors is now part of the private API.\n",
            "  warnings.warn(message, FutureWarning)\n"
          ],
          "name": "stderr"
        },
        {
          "output_type": "stream",
          "text": [
            "train_label (33159, 118)\n",
            "orig shape (33159, 64, 6)\n",
            "384\n",
            "reshaped (33159, 384)\n",
            "resampled train (33691, 384)\n",
            "resampled train_label (33691, 118)\n",
            "undo to orig shape (33691, 64, 6)\n"
          ],
          "name": "stdout"
        },
        {
          "output_type": "stream",
          "text": [
            "/usr/local/lib/python3.6/dist-packages/sklearn/utils/deprecation.py:87: FutureWarning: Function safe_indexing is deprecated; safe_indexing is deprecated in version 0.22 and will be removed in version 0.24.\n",
            "  warnings.warn(msg, category=FutureWarning)\n"
          ],
          "name": "stderr"
        }
      ]
    },
    {
      "cell_type": "code",
      "metadata": {
        "colab_type": "code",
        "id": "XSp3HYKT1RZk",
        "colab": {}
      },
      "source": [
        ""
      ],
      "execution_count": 0,
      "outputs": []
    },
    {
      "cell_type": "markdown",
      "metadata": {
        "id": "9Ofy-GZ2bFaD",
        "colab_type": "text"
      },
      "source": [
        "Butterworth Noise Filter"
      ]
    },
    {
      "cell_type": "code",
      "metadata": {
        "id": "1DdA_-KDbKPq",
        "colab_type": "code",
        "colab": {}
      },
      "source": [
        "from scipy.signal import butter, lfilter\n",
        "import numpy as np \n",
        "import numpy as np\n",
        "from scipy.signal import freqz\n",
        "    \n",
        "def butter_bandpass(lowcut, highcut, fs, order=5):\n",
        "    nyq = 0.5 * fs\n",
        "    low = lowcut / nyq\n",
        "    high = highcut / nyq\n",
        "    b, a = butter(order, [low, high], btype='band')\n",
        "    return b, a\n",
        "\n",
        "def butter_bandpass_filter(data, lowcut, highcut, fs, order=5):\n",
        "    b, a = butter_bandpass(lowcut, highcut, fs, order=order)\n",
        "    y = lfilter(b, a, data)\n",
        "    return y\n",
        "\n",
        "def butter_worth_main(data):\n",
        "    # Sample rate and desired cutoff frequencies (in Hz).\n",
        "    fs = 64.0\n",
        "    lowcut = 6\n",
        "    highcut = 16\n",
        "    # Filter a noisy signal.\n",
        "    y = butter_bandpass_filter(data, lowcut, highcut, fs, order=1)\n",
        "    return y\n",
        "\n",
        "# bw_X_train = np.apply_along_axis(butter_worth_main, 1, X_train)\n",
        "bw_X_train = np.apply_along_axis(butter_worth_main, 1, X_train)\n",
        "bw_X_test = np.apply_along_axis(butter_worth_main, 1, X_test)\n",
        "\n",
        "# display(bw_X_test.shape)"
      ],
      "execution_count": 0,
      "outputs": []
    },
    {
      "cell_type": "markdown",
      "metadata": {
        "id": "osWkl0-WDwUT",
        "colab_type": "text"
      },
      "source": [
        "Data Normalization"
      ]
    },
    {
      "cell_type": "code",
      "metadata": {
        "id": "TZfCItFFDzV3",
        "colab_type": "code",
        "outputId": "95cee2c9-2884-4bdf-8da2-007b720c720f",
        "colab": {
          "base_uri": "https://localhost:8080/",
          "height": 85
        }
      },
      "source": [
        "nm_bw_X_train = tf.keras.utils.normalize(\n",
        "    bw_X_train, axis=-1, order=1\n",
        ")\n",
        "\n",
        "nm_bw_X_test = tf.keras.utils.normalize(\n",
        "    bw_X_test, axis=-1, order=2\n",
        ")\n",
        "display(train_label.shape)\n",
        "display(nm_bw_X_train.shape)\n",
        "\n",
        "display(test_label.shape)\n",
        "display(nm_bw_X_test.shape)\n",
        "# display(nm_bw_X_test)"
      ],
      "execution_count": 0,
      "outputs": [
        {
          "output_type": "display_data",
          "data": {
            "text/plain": [
              "(26283, 118)"
            ]
          },
          "metadata": {
            "tags": []
          }
        },
        {
          "output_type": "display_data",
          "data": {
            "text/plain": [
              "(26283, 128, 6)"
            ]
          },
          "metadata": {
            "tags": []
          }
        },
        {
          "output_type": "display_data",
          "data": {
            "text/plain": [
              "(2991, 118)"
            ]
          },
          "metadata": {
            "tags": []
          }
        },
        {
          "output_type": "display_data",
          "data": {
            "text/plain": [
              "(2991, 128, 6)"
            ]
          },
          "metadata": {
            "tags": []
          }
        }
      ]
    },
    {
      "cell_type": "code",
      "metadata": {
        "id": "eU-UnThoc4ie",
        "colab_type": "code",
        "outputId": "83a67d38-a16e-4293-b41d-b09ccac49c85",
        "colab": {
          "base_uri": "https://localhost:8080/",
          "height": 1000
        }
      },
      "source": [
        "display(X_test)\n",
        "display(bw_X_test)"
      ],
      "execution_count": 0,
      "outputs": [
        {
          "output_type": "display_data",
          "data": {
            "text/plain": [
              "array([[[ 3.61046e+00, -8.14986e+00, -6.75644e+00, -7.44034e-01,\n",
              "          5.15876e+00, -1.11788e-01],\n",
              "        [ 2.64739e+00, -1.05779e+01,  7.69736e+00,  6.32895e-01,\n",
              "          1.10115e+01, -9.18875e-02],\n",
              "        [ 2.08774e+00, -1.07260e+01,  7.56568e+00,  1.51943e+00,\n",
              "          4.37840e+00, -9.10573e-03],\n",
              "        ...,\n",
              "        [-4.81713e+00, -3.04842e+01,  2.98759e+00,  1.72897e+00,\n",
              "          4.84416e-01,  6.15771e-01],\n",
              "        [-1.48225e+01, -4.03574e+01,  8.69394e-01,  6.70310e-01,\n",
              "          4.15058e+00,  1.43103e+00],\n",
              "        [-4.88986e+00, -2.58070e+01,  7.41903e-01,  7.60766e-01,\n",
              "         -2.35622e-01, -1.26097e+00]],\n",
              "\n",
              "       [[-1.36665e+01,  4.35181e-01,  2.50133e+00,  5.77164e-01,\n",
              "          1.15036e-01,  4.42810e-02],\n",
              "        [-1.34946e+01, -2.99402e-01,  5.32024e-01,  3.31338e-01,\n",
              "          4.33805e-01, -2.04554e-02],\n",
              "        [-1.24958e+01, -1.15043e+00, -8.43358e-01,  3.96333e-02,\n",
              "          5.60351e-01, -4.38514e-02],\n",
              "        ...,\n",
              "        [-9.96326e+00, -2.30424e+00, -4.67942e-01, -5.76668e-01,\n",
              "          5.86972e-02, -2.80067e-01],\n",
              "        [-1.02930e+01, -1.96378e+00,  1.82467e+00, -4.41516e-01,\n",
              "         -1.34490e-01, -4.00584e-01],\n",
              "        [-1.09914e+01, -6.99634e-01,  5.62505e+00,  1.78865e-01,\n",
              "         -5.41351e-02, -2.93911e-01]],\n",
              "\n",
              "       [[ 1.75974e-01, -4.47955e+00, -8.45153e-01,  8.36233e-01,\n",
              "          3.16383e-01,  6.28506e-02],\n",
              "        [-7.62104e-01, -3.48570e+00, -1.07286e+00,  8.18681e-01,\n",
              "         -9.25449e-02, -8.17591e-02],\n",
              "        [-1.00048e+00, -3.77850e+00,  4.27215e-01,  3.38171e-01,\n",
              "         -3.18897e-01, -1.45042e-01],\n",
              "        ...,\n",
              "        [-1.89142e+00, -5.54138e+00, -2.32597e+00,  4.66852e-01,\n",
              "          6.41822e-01,  2.01868e-01],\n",
              "        [-2.02430e+00, -7.19937e+00, -4.27126e+00,  1.22505e-01,\n",
              "          6.95618e-01,  2.90817e-01],\n",
              "        [-2.26491e+00, -9.27873e+00, -6.93121e+00, -2.81496e-01,\n",
              "          4.11991e-01,  3.78702e-01]],\n",
              "\n",
              "       ...,\n",
              "\n",
              "       [[ 1.49207e+01,  2.39420e+00, -3.98395e+00, -1.74707e-01,\n",
              "          1.46608e-02, -2.70002e-01],\n",
              "        [ 1.42402e+01,  2.76246e+00, -3.80783e+00, -1.99218e-01,\n",
              "         -8.52415e-01, -2.61832e-01],\n",
              "        [ 1.18160e+01,  3.64547e+00, -1.70781e+00,  8.49103e-02,\n",
              "         -6.85219e-01, -1.47772e-01],\n",
              "        ...,\n",
              "        [ 1.29018e+01,  2.43221e+00, -2.56397e+00,  3.00651e-01,\n",
              "         -7.83969e-01, -1.90017e-01],\n",
              "        [ 1.17991e+01,  2.25369e+00, -3.95492e-01,  3.84158e-01,\n",
              "         -3.29982e-01, -9.93229e-02],\n",
              "        [ 1.29766e+01,  1.84832e+00,  1.20668e+00,  7.03545e-02,\n",
              "          9.22025e-02, -1.68370e-02]],\n",
              "\n",
              "       [[-1.70467e+01, -1.21625e+01, -3.11246e+00,  2.84663e-01,\n",
              "          5.86431e-02,  2.61450e-01],\n",
              "        [-1.67962e+01, -1.13545e+01, -3.57305e+00,  1.51685e-01,\n",
              "         -2.22775e-01,  2.43926e-01],\n",
              "        [-1.64931e+01, -1.01646e+01, -4.08630e+00, -3.00088e-02,\n",
              "         -3.79042e-01,  3.48193e-01],\n",
              "        ...,\n",
              "        [-1.29688e+01, -1.31178e+01,  4.44873e+00,  1.04149e+00,\n",
              "          1.86184e+00, -6.68325e-01],\n",
              "        [-1.68612e+01, -1.35691e+01,  4.97934e+00,  1.41377e+00,\n",
              "          1.69339e+00, -3.08258e-01],\n",
              "        [-2.02226e+01, -1.31525e+01,  4.28921e+00,  1.45886e+00,\n",
              "          1.01045e+00,  2.15292e-01]],\n",
              "\n",
              "       [[ 1.55240e+01, -1.83204e+01, -2.51870e+00, -6.35300e-02,\n",
              "          1.73730e+00, -1.16431e+00],\n",
              "        [ 9.12296e+00, -1.07504e+01, -4.91320e+00, -7.15361e-01,\n",
              "          1.27789e+00,  2.06701e-01],\n",
              "        [ 2.26252e-01, -8.13460e+00, -8.27257e+00, -6.67714e-01,\n",
              "         -6.20715e-01,  1.47948e+00],\n",
              "        ...,\n",
              "        [ 5.73598e+00, -9.03587e+00, -4.75511e+00, -4.79482e-01,\n",
              "          5.26757e-01,  3.91565e-01],\n",
              "        [ 5.40192e-01, -1.18558e+01, -1.76273e+00,  9.17252e-02,\n",
              "          2.35069e-01,  6.90507e-01],\n",
              "        [-3.20367e+00, -1.52336e+01,  1.19396e+00,  2.84568e-01,\n",
              "         -3.74460e-01,  4.32378e-01]]], dtype=float32)"
            ]
          },
          "metadata": {
            "tags": []
          }
        },
        {
          "output_type": "display_data",
          "data": {
            "text/plain": [
              "array([[[ 7.23216787e-01, -1.63251103e+00, -1.35339289e+00,\n",
              "         -1.49038590e-01,  1.03335914e+00, -2.23924251e-02],\n",
              "        [ 1.41383651e+00, -4.11326856e+00, -1.11532369e-01,\n",
              "         -5.53001237e-02,  3.46815657e+00, -4.57623268e-02],\n",
              "        [ 9.88746795e-01, -4.56260652e+00,  3.54382235e+00,\n",
              "          4.75169624e-01,  3.46126341e+00, -2.19166133e-02],\n",
              "        ...,\n",
              "        [ 1.39096436e-01, -9.51673595e+00,  1.12094998e+00,\n",
              "          9.19661205e-01, -3.99443367e-02, -1.94840190e-01],\n",
              "        [-3.60718591e+00, -1.35370565e+01,  1.45929989e+00,\n",
              "          9.65421174e-01,  1.54999979e+00,  4.28243940e-01],\n",
              "        [-4.50473833e+00, -9.89683533e+00,  6.61077410e-01,\n",
              "          4.34261989e-01,  1.77330132e+00,  2.64023533e-01]],\n",
              "\n",
              "       [[-2.73755759e+00,  8.71717717e-02,  5.01045227e-01,\n",
              "          1.15612605e-01,  2.30430382e-02,  8.86999468e-03],\n",
              "        [-6.04752186e+00,  4.65216499e-02,  7.18683534e-01,\n",
              "          2.07611516e-01,  1.15047180e-01,  6.73877278e-03],\n",
              "        [-5.51275526e+00, -3.13030708e-01, -9.22988716e-02,\n",
              "          7.66640757e-02,  2.15940199e-01, -1.47378356e-02],\n",
              "        ...,\n",
              "        [-8.68349612e-02, -2.27459854e-01,  7.81774378e-01,\n",
              "         -9.46255799e-02, -3.33266207e-01, -2.49886003e-01],\n",
              "        [ 2.82453598e-02,  1.19401182e-01,  1.59284962e+00,\n",
              "         -7.19902925e-02, -6.02949481e-01, -2.32246034e-01],\n",
              "        [-1.19394872e-01,  6.03624367e-01,  2.69785903e+00,\n",
              "          1.20109835e-01, -5.59456106e-01, -1.36725715e-01]],\n",
              "\n",
              "       [[ 3.52496210e-02, -8.97305505e-01, -1.69293888e-01,\n",
              "          1.67507118e-01,  6.33751646e-02,  1.25897004e-02],\n",
              "        [-1.09594736e-01, -1.79443901e+00, -4.21727855e-01,\n",
              "          3.68630023e-01,  5.88858613e-02, -9.96805155e-04],\n",
              "        [-3.90673959e-01, -1.51396353e+00, -1.58872330e-01,\n",
              "          2.50177554e-01, -9.33003101e-02, -5.04070314e-02],\n",
              "        ...,\n",
              "        [ 7.18452097e-01, -1.45932577e+00, -1.47965665e+00,\n",
              "          1.71804644e-01, -7.87495478e-02, -7.06335199e-02],\n",
              "        [ 4.15931923e-01, -1.72574631e+00, -1.68629776e+00,\n",
              "          2.04280822e-02, -3.78083218e-02,  3.41262003e-02],\n",
              "        [ 2.69447010e-03, -1.98224434e+00, -2.09571360e+00,\n",
              "         -2.27922057e-01, -4.50265063e-02,  1.19449023e-01]],\n",
              "\n",
              "       ...,\n",
              "\n",
              "       [[ 2.98878831e+00,  4.79585890e-01, -7.98031112e-01,\n",
              "         -3.49958261e-02,  2.93672730e-03, -5.40845161e-02],\n",
              "        [ 6.50379565e+00,  1.13924931e+00, -1.73768465e+00,\n",
              "         -8.26590891e-02, -1.67160843e-01, -1.18521515e-01],\n",
              "        [ 5.53218783e+00,  1.35498017e+00, -1.18862238e+00,\n",
              "         -2.80022747e-02, -3.46169942e-01, -8.78933384e-02],\n",
              "        ...,\n",
              "        [ 5.02401258e-01,  1.92046248e-01, -4.18584350e-01,\n",
              "          1.25886182e-01, -5.61739486e-01, -2.11014281e-03],\n",
              "        [-2.66753798e-01, -6.09548115e-02,  5.74789992e-01,\n",
              "          2.16158968e-01, -4.89362949e-01,  5.14167977e-02],\n",
              "        [-6.12030193e-01, -3.06534779e-01,  1.70839942e+00,\n",
              "          1.42491063e-01, -8.56401287e-02,  9.87691904e-02]],\n",
              "\n",
              "       [[-3.41465052e+00, -2.43628910e+00, -6.23461614e-01,\n",
              "          5.70212803e-02,  1.17468891e-02,  5.23714489e-02],\n",
              "        [-7.53605587e+00, -5.25078374e+00, -1.47738880e+00,\n",
              "          1.00045563e-01, -3.02735544e-02,  1.12841931e-01],\n",
              "        [-7.04903408e+00, -4.55427820e+00, -1.62626758e+00,\n",
              "          2.50132463e-02, -1.31698545e-01,  1.23841225e-01],\n",
              "        ...,\n",
              "        [-2.63823294e+00, -1.21407161e+00,  2.43421989e+00,\n",
              "          7.05241900e-01,  6.18471927e-01,  1.08020837e-02],\n",
              "        [-3.64406295e+00, -9.26386213e-01,  2.22659648e+00,\n",
              "          7.79609608e-01,  2.42099498e-01,  9.70760208e-02],\n",
              "        [-4.32357422e+00, -4.11004582e-01,  1.22920187e+00,\n",
              "          6.13325637e-01, -2.45474837e-01,  2.89119227e-01]],\n",
              "\n",
              "       [[ 3.10963627e+00, -3.66978746e+00, -5.04524635e-01,\n",
              "         -1.27257913e-02,  3.48001234e-01, -2.33224717e-01],\n",
              "        [ 5.62639007e+00, -6.63670605e+00, -1.60053429e+00,\n",
              "         -1.58841803e-01,  6.81119505e-01, -2.43519541e-01],\n",
              "        [ 1.94544424e+00, -3.86795948e+00, -2.80549416e+00,\n",
              "         -3.07450080e-01,  1.51183185e-01,  3.71870111e-01],\n",
              "        ...,\n",
              "        [-4.77548049e-01,  3.61030800e-01,  2.23718080e+00,\n",
              "         -1.11865942e-01,  4.32251381e-01,  2.06710113e-01],\n",
              "        [-3.13279918e+00,  2.73864186e+00,  3.14737337e+00,\n",
              "          1.43101173e-01,  4.98768367e-02,  4.79821689e-01],\n",
              "        [-5.33173715e+00,  1.88785207e+00,  3.69581102e+00,\n",
              "          3.94920606e-01, -3.78672528e-01,  4.70462821e-01]]])"
            ]
          },
          "metadata": {
            "tags": []
          }
        }
      ]
    },
    {
      "cell_type": "markdown",
      "metadata": {
        "id": "GCCCcahCRhjc",
        "colab_type": "text"
      },
      "source": [
        "# reshape data"
      ]
    },
    {
      "cell_type": "code",
      "metadata": {
        "id": "hCh7Qms66Q8d",
        "colab_type": "code",
        "outputId": "546522e4-2b8b-4487-d91d-7d31ee72bf0c",
        "colab": {
          "base_uri": "https://localhost:8080/",
          "height": 34
        }
      },
      "source": [
        "X_test = X_test.reshape(-1,6,128,1)\n",
        "X_test.shape\n",
        "# print(X_test.ndim, X_test.shape)\n",
        "\n",
        "# X_train.take(0)\n",
        "# X_train.shape\n",
        "# X_train[0][0]\n",
        "\n",
        "\n",
        "# X_test = np.transpose(np.array(X_test), (1, 0, 2))#(totalStepNum*6*128)\n",
        "# print(X_test.ndim, X_test.shape)\n",
        "\n",
        "# 0    1     2\n",
        "# (6, 3740, 128)\n",
        "# (3740, 6, 128) for each trial (for each acc/gyr_p (for each datapoint))"
      ],
      "execution_count": 0,
      "outputs": [
        {
          "output_type": "execute_result",
          "data": {
            "text/plain": [
              "(1870, 6, 128, 1)"
            ]
          },
          "metadata": {
            "tags": []
          },
          "execution_count": 23
        }
      ]
    },
    {
      "cell_type": "markdown",
      "metadata": {
        "id": "-PbdxZw5kX9l",
        "colab_type": "text"
      },
      "source": [
        "# LSTM\n",
        "\n"
      ]
    },
    {
      "cell_type": "code",
      "metadata": {
        "id": "8rfkJrQWkXsw",
        "colab_type": "code",
        "outputId": "abbddcd7-ebb5-438f-fd0f-8e89d0948453",
        "colab": {
          "base_uri": "https://localhost:8080/",
          "height": 644
        }
      },
      "source": [
        "from tensorflow.keras.models import Sequential\n",
        "from tensorflow.keras.layers import LSTM, Flatten, Dense, Dropout\n",
        "from tensorflow.keras.layers import StackedRNNCells\n",
        "from tensorflow.keras.layers import LSTMCell\n",
        "from numpy import array\n",
        "\n",
        "from tensorflow.keras.layers import TimeDistributed\n",
        "from tensorflow.keras.layers import Bidirectional\n",
        "\n",
        "from tensorflow.keras.layers import Conv1D, MaxPooling1D\n",
        "from tensorflow.keras.layers import Conv2D, MaxPooling2D\n",
        "from tensorflow.keras.layers import Embedding\n",
        "from tensorflow.keras.layers import Dense, Dropout, Activation\n",
        "\n",
        "n_inputs = len(X_train[0][0]) #6\n",
        "n_hidden = 64\n",
        "n_steps = len(X_train[0]) #128\n",
        "n_features = len(X_train[0][0])\n",
        "learning_rate = 0.0025\n",
        "t_batch_size = 1500\n",
        "\n",
        "batch_size = 512\n",
        "no_epochs = 100 # 200\n",
        "verbosity = 1\n",
        "\n",
        "lstm_model = Sequential()\n",
        "classes = 90\n",
        "\n",
        "lstm_model.add(LSTM(128,input_shape=(n_steps, n_features), return_sequences=True))\n",
        "lstm_model.add(LSTM(64))\n",
        "\n",
        "\n",
        "lstm_model.add(Dropout(0.50))\n",
        "lstm_model.add(Flatten())\n",
        "lstm_model.add(Dense(classes, activation='softmax'))\n",
        "\n",
        "\n",
        "# Compile the model\n",
        "lstm_model.compile(loss='categorical_crossentropy',\n",
        "              optimizer='RMSProp',\n",
        "              metrics=['accuracy'])\n",
        "\n",
        "from tensorflow.keras.models import Sequential\n",
        "from tensorflow.keras.layers import Dense\n",
        "from tensorflow.keras.utils import plot_model\n",
        "plot_model(lstm_model, to_file='model_plot.png', show_shapes=True, show_layer_names=True)"
      ],
      "execution_count": 0,
      "outputs": [
        {
          "output_type": "execute_result",
          "data": {
            "image/png": "[encoded data removed]",
            "text/plain": [
              "<IPython.core.display.Image object>"
            ]
          },
          "metadata": {
            "tags": []
          },
          "execution_count": 55
        }
      ]
    },
    {
      "cell_type": "markdown",
      "metadata": {
        "id": "hWz8CTyQoNiu",
        "colab_type": "text"
      },
      "source": [
        "# Model Summary"
      ]
    },
    {
      "cell_type": "code",
      "metadata": {
        "id": "zQVNmdDooSSb",
        "colab_type": "code",
        "outputId": "58277a1a-96a0-4f3c-8adc-191ccda7daa4",
        "colab": {
          "base_uri": "https://localhost:8080/",
          "height": 1000
        }
      },
      "source": [
        "# display(X_train.shape)\n",
        "# lstm_model.build( X_train.shape)\n",
        "lstm_model.summary()\n",
        "lstm_model.get_config()"
      ],
      "execution_count": 0,
      "outputs": [
        {
          "output_type": "stream",
          "text": [
            "Model: \"sequential\"\n",
            "_________________________________________________________________\n",
            "Layer (type)                 Output Shape              Param #   \n",
            "=================================================================\n",
            "lstm (LSTM)                  (None, 64, 128)           69120     \n",
            "_________________________________________________________________\n",
            "lstm_1 (LSTM)                (None, 64)                49408     \n",
            "_________________________________________________________________\n",
            "dropout (Dropout)            (None, 64)                0         \n",
            "_________________________________________________________________\n",
            "flatten (Flatten)            (None, 64)                0         \n",
            "_________________________________________________________________\n",
            "dense (Dense)                (None, 118)               7670      \n",
            "=================================================================\n",
            "Total params: 126,198\n",
            "Trainable params: 126,198\n",
            "Non-trainable params: 0\n",
            "_________________________________________________________________\n"
          ],
          "name": "stdout"
        },
        {
          "output_type": "execute_result",
          "data": {
            "text/plain": [
              "{'build_input_shape': TensorShape([None, 64, 6]),\n",
              " 'layers': [{'class_name': 'LSTM',\n",
              "   'config': {'activation': 'tanh',\n",
              "    'activity_regularizer': None,\n",
              "    'batch_input_shape': (None, 64, 6),\n",
              "    'bias_constraint': None,\n",
              "    'bias_initializer': {'class_name': 'Zeros', 'config': {}},\n",
              "    'bias_regularizer': None,\n",
              "    'dropout': 0.0,\n",
              "    'dtype': 'float32',\n",
              "    'go_backwards': False,\n",
              "    'implementation': 2,\n",
              "    'kernel_constraint': None,\n",
              "    'kernel_initializer': {'class_name': 'GlorotUniform',\n",
              "     'config': {'seed': None}},\n",
              "    'kernel_regularizer': None,\n",
              "    'name': 'lstm',\n",
              "    'recurrent_activation': 'sigmoid',\n",
              "    'recurrent_constraint': None,\n",
              "    'recurrent_dropout': 0.0,\n",
              "    'recurrent_initializer': {'class_name': 'Orthogonal',\n",
              "     'config': {'gain': 1.0, 'seed': None}},\n",
              "    'recurrent_regularizer': None,\n",
              "    'return_sequences': True,\n",
              "    'return_state': False,\n",
              "    'stateful': False,\n",
              "    'time_major': False,\n",
              "    'trainable': True,\n",
              "    'unit_forget_bias': True,\n",
              "    'units': 128,\n",
              "    'unroll': False,\n",
              "    'use_bias': True}},\n",
              "  {'class_name': 'LSTM',\n",
              "   'config': {'activation': 'tanh',\n",
              "    'activity_regularizer': None,\n",
              "    'bias_constraint': None,\n",
              "    'bias_initializer': {'class_name': 'Zeros', 'config': {}},\n",
              "    'bias_regularizer': None,\n",
              "    'dropout': 0.0,\n",
              "    'dtype': 'float32',\n",
              "    'go_backwards': False,\n",
              "    'implementation': 2,\n",
              "    'kernel_constraint': None,\n",
              "    'kernel_initializer': {'class_name': 'GlorotUniform',\n",
              "     'config': {'seed': None}},\n",
              "    'kernel_regularizer': None,\n",
              "    'name': 'lstm_1',\n",
              "    'recurrent_activation': 'sigmoid',\n",
              "    'recurrent_constraint': None,\n",
              "    'recurrent_dropout': 0.0,\n",
              "    'recurrent_initializer': {'class_name': 'Orthogonal',\n",
              "     'config': {'gain': 1.0, 'seed': None}},\n",
              "    'recurrent_regularizer': None,\n",
              "    'return_sequences': False,\n",
              "    'return_state': False,\n",
              "    'stateful': False,\n",
              "    'time_major': False,\n",
              "    'trainable': True,\n",
              "    'unit_forget_bias': True,\n",
              "    'units': 64,\n",
              "    'unroll': False,\n",
              "    'use_bias': True}},\n",
              "  {'class_name': 'Dropout',\n",
              "   'config': {'dtype': 'float32',\n",
              "    'name': 'dropout',\n",
              "    'noise_shape': None,\n",
              "    'rate': 0.5,\n",
              "    'seed': None,\n",
              "    'trainable': True}},\n",
              "  {'class_name': 'Flatten',\n",
              "   'config': {'data_format': 'channels_last',\n",
              "    'dtype': 'float32',\n",
              "    'name': 'flatten',\n",
              "    'trainable': True}},\n",
              "  {'class_name': 'Dense',\n",
              "   'config': {'activation': 'softmax',\n",
              "    'activity_regularizer': None,\n",
              "    'bias_constraint': None,\n",
              "    'bias_initializer': {'class_name': 'Zeros', 'config': {}},\n",
              "    'bias_regularizer': None,\n",
              "    'dtype': 'float32',\n",
              "    'kernel_constraint': None,\n",
              "    'kernel_initializer': {'class_name': 'GlorotUniform',\n",
              "     'config': {'seed': None}},\n",
              "    'kernel_regularizer': None,\n",
              "    'name': 'dense',\n",
              "    'trainable': True,\n",
              "    'units': 118,\n",
              "    'use_bias': True}}],\n",
              " 'name': 'sequential'}"
            ]
          },
          "metadata": {
            "tags": []
          },
          "execution_count": 6
        }
      ]
    },
    {
      "cell_type": "markdown",
      "metadata": {
        "id": "CtKyW-53nh4I",
        "colab_type": "text"
      },
      "source": [
        "# Check accuracy"
      ]
    },
    {
      "cell_type": "code",
      "metadata": {
        "id": "ZRANRlicDZZ-",
        "colab_type": "code",
        "outputId": "5a8c4583-8953-419b-f17d-9699f27e9274",
        "colab": {
          "base_uri": "https://localhost:8080/",
          "height": 1000
        }
      },
      "source": [
        "history = lstm_model.fit(X_train, train_label,\n",
        "          batch_size=batch_size,\n",
        "          epochs=no_epochs,\n",
        "          validation_data=(X_test, test_label),\n",
        "          shuffle=True,\n",
        "          verbose=verbosity)\n",
        "\n",
        "test_loss, test_acc = lstm_model.evaluate(X_test, test_label, verbose=2)\n",
        "\n",
        "print('\\nTest accuracy:', test_acc)"
      ],
      "execution_count": 0,
      "outputs": [
        {
          "output_type": "stream",
          "text": [
            "Epoch 1/100\n",
            "66/66 [==============================] - 16s 239ms/step - loss: 2.3704 - accuracy: 0.3895 - val_loss: 1.1674 - val_accuracy: 0.6693\n",
            "Epoch 2/100\n",
            "66/66 [==============================] - 14s 218ms/step - loss: 0.7890 - accuracy: 0.7764 - val_loss: 0.6820 - val_accuracy: 0.7953\n",
            "Epoch 3/100\n",
            "66/66 [==============================] - 14s 219ms/step - loss: 0.3945 - accuracy: 0.8901 - val_loss: 0.2007 - val_accuracy: 0.9448\n",
            "Epoch 4/100\n",
            "66/66 [==============================] - 14s 220ms/step - loss: 0.2456 - accuracy: 0.9358 - val_loss: 0.2372 - val_accuracy: 0.9309\n",
            "Epoch 5/100\n",
            "66/66 [==============================] - 14s 218ms/step - loss: 0.1795 - accuracy: 0.9528 - val_loss: 0.1096 - val_accuracy: 0.9751\n",
            "Epoch 6/100\n",
            "66/66 [==============================] - 14s 218ms/step - loss: 0.1218 - accuracy: 0.9700 - val_loss: 0.1849 - val_accuracy: 0.9611\n",
            "Epoch 7/100\n",
            "66/66 [==============================] - 14s 219ms/step - loss: 0.1019 - accuracy: 0.9727 - val_loss: 0.0718 - val_accuracy: 0.9850\n",
            "Epoch 8/100\n",
            "66/66 [==============================] - 14s 218ms/step - loss: 0.0837 - accuracy: 0.9786 - val_loss: 0.0751 - val_accuracy: 0.9796\n",
            "Epoch 9/100\n",
            "66/66 [==============================] - 14s 219ms/step - loss: 0.0598 - accuracy: 0.9840 - val_loss: 0.1198 - val_accuracy: 0.9708\n",
            "Epoch 10/100\n",
            "66/66 [==============================] - 14s 219ms/step - loss: 0.0512 - accuracy: 0.9860 - val_loss: 0.0995 - val_accuracy: 0.9807\n",
            "Epoch 11/100\n",
            "66/66 [==============================] - 14s 219ms/step - loss: 0.0401 - accuracy: 0.9892 - val_loss: 0.2417 - val_accuracy: 0.9435\n",
            "Epoch 12/100\n",
            "66/66 [==============================] - 14s 219ms/step - loss: 0.0397 - accuracy: 0.9893 - val_loss: 0.0392 - val_accuracy: 0.9890\n",
            "Epoch 13/100\n",
            "66/66 [==============================] - 14s 217ms/step - loss: 0.0362 - accuracy: 0.9903 - val_loss: 0.0704 - val_accuracy: 0.9818\n",
            "Epoch 14/100\n",
            "66/66 [==============================] - 14s 218ms/step - loss: 0.0319 - accuracy: 0.9926 - val_loss: 0.0351 - val_accuracy: 0.9928\n",
            "Epoch 15/100\n",
            "66/66 [==============================] - 14s 218ms/step - loss: 0.0309 - accuracy: 0.9935 - val_loss: 0.0644 - val_accuracy: 0.9877\n",
            "Epoch 16/100\n",
            "66/66 [==============================] - 14s 219ms/step - loss: 0.0229 - accuracy: 0.9948 - val_loss: 0.0379 - val_accuracy: 0.9933\n",
            "Epoch 17/100\n",
            "66/66 [==============================] - 14s 218ms/step - loss: 0.0220 - accuracy: 0.9946 - val_loss: 0.0413 - val_accuracy: 0.9904\n",
            "Epoch 18/100\n",
            "66/66 [==============================] - 14s 219ms/step - loss: 0.0251 - accuracy: 0.9946 - val_loss: 0.0680 - val_accuracy: 0.9855\n",
            "Epoch 19/100\n",
            "66/66 [==============================] - 14s 218ms/step - loss: 0.0160 - accuracy: 0.9959 - val_loss: 0.0492 - val_accuracy: 0.9922\n",
            "Epoch 20/100\n",
            "66/66 [==============================] - 14s 217ms/step - loss: 0.0282 - accuracy: 0.9948 - val_loss: 0.0427 - val_accuracy: 0.9906\n",
            "Epoch 21/100\n",
            "66/66 [==============================] - 14s 219ms/step - loss: 0.0145 - accuracy: 0.9966 - val_loss: 0.0357 - val_accuracy: 0.9936\n",
            "Epoch 22/100\n",
            "66/66 [==============================] - 14s 219ms/step - loss: 0.0152 - accuracy: 0.9963 - val_loss: 0.0934 - val_accuracy: 0.9815\n",
            "Epoch 23/100\n",
            "66/66 [==============================] - 14s 219ms/step - loss: 0.0121 - accuracy: 0.9966 - val_loss: 0.0353 - val_accuracy: 0.9949\n",
            "Epoch 24/100\n",
            "66/66 [==============================] - 14s 218ms/step - loss: 0.0132 - accuracy: 0.9967 - val_loss: 0.0484 - val_accuracy: 0.9912\n",
            "Epoch 25/100\n",
            "66/66 [==============================] - 14s 218ms/step - loss: 0.0150 - accuracy: 0.9965 - val_loss: 0.0376 - val_accuracy: 0.9920\n",
            "Epoch 26/100\n",
            "66/66 [==============================] - 14s 218ms/step - loss: 0.0074 - accuracy: 0.9977 - val_loss: 0.0448 - val_accuracy: 0.9930\n",
            "Epoch 27/100\n",
            "66/66 [==============================] - 14s 220ms/step - loss: 0.0144 - accuracy: 0.9965 - val_loss: 0.0368 - val_accuracy: 0.9938\n",
            "Epoch 28/100\n",
            "66/66 [==============================] - 14s 219ms/step - loss: 0.0069 - accuracy: 0.9985 - val_loss: 0.0350 - val_accuracy: 0.9949\n",
            "Epoch 29/100\n",
            "66/66 [==============================] - 14s 218ms/step - loss: 0.0092 - accuracy: 0.9976 - val_loss: 0.0416 - val_accuracy: 0.9922\n",
            "Epoch 30/100\n",
            "66/66 [==============================] - 14s 219ms/step - loss: 0.0070 - accuracy: 0.9981 - val_loss: 0.0474 - val_accuracy: 0.9928\n",
            "Epoch 31/100\n",
            "66/66 [==============================] - 14s 218ms/step - loss: 0.0131 - accuracy: 0.9975 - val_loss: 0.0409 - val_accuracy: 0.9946\n",
            "Epoch 32/100\n",
            "66/66 [==============================] - 14s 218ms/step - loss: 0.0071 - accuracy: 0.9982 - val_loss: 0.0354 - val_accuracy: 0.9949\n",
            "Epoch 33/100\n",
            "66/66 [==============================] - 14s 219ms/step - loss: 0.0101 - accuracy: 0.9981 - val_loss: 0.0439 - val_accuracy: 0.9925\n",
            "Epoch 34/100\n",
            "66/66 [==============================] - 14s 219ms/step - loss: 0.0088 - accuracy: 0.9979 - val_loss: 0.0373 - val_accuracy: 0.9944\n",
            "Epoch 35/100\n",
            "66/66 [==============================] - 14s 218ms/step - loss: 0.0065 - accuracy: 0.9983 - val_loss: 0.0319 - val_accuracy: 0.9949\n",
            "Epoch 36/100\n",
            "66/66 [==============================] - 14s 219ms/step - loss: 0.0063 - accuracy: 0.9986 - val_loss: 0.0292 - val_accuracy: 0.9946\n",
            "Epoch 37/100\n",
            "66/66 [==============================] - 14s 219ms/step - loss: 0.0071 - accuracy: 0.9984 - val_loss: 0.0451 - val_accuracy: 0.9925\n",
            "Epoch 38/100\n",
            "66/66 [==============================] - 14s 218ms/step - loss: 0.0060 - accuracy: 0.9985 - val_loss: 0.0406 - val_accuracy: 0.9925\n",
            "Epoch 39/100\n",
            "66/66 [==============================] - 14s 219ms/step - loss: 0.0081 - accuracy: 0.9984 - val_loss: 0.0391 - val_accuracy: 0.9936\n",
            "Epoch 40/100\n",
            "66/66 [==============================] - 14s 219ms/step - loss: 0.0098 - accuracy: 0.9986 - val_loss: 0.0372 - val_accuracy: 0.9938\n",
            "Epoch 41/100\n",
            "66/66 [==============================] - 14s 218ms/step - loss: 0.0074 - accuracy: 0.9988 - val_loss: 0.0390 - val_accuracy: 0.9944\n",
            "Epoch 42/100\n",
            "66/66 [==============================] - 14s 218ms/step - loss: 0.0104 - accuracy: 0.9984 - val_loss: 0.0483 - val_accuracy: 0.9925\n",
            "Epoch 43/100\n",
            "66/66 [==============================] - 14s 217ms/step - loss: 0.0053 - accuracy: 0.9987 - val_loss: 0.0405 - val_accuracy: 0.9936\n",
            "Epoch 44/100\n",
            "66/66 [==============================] - 14s 218ms/step - loss: 0.0047 - accuracy: 0.9985 - val_loss: 0.0398 - val_accuracy: 0.9949\n",
            "Epoch 45/100\n",
            "66/66 [==============================] - 14s 219ms/step - loss: 0.0082 - accuracy: 0.9983 - val_loss: 0.0398 - val_accuracy: 0.9949\n",
            "Epoch 46/100\n",
            "66/66 [==============================] - 14s 218ms/step - loss: 0.0047 - accuracy: 0.9993 - val_loss: 0.0359 - val_accuracy: 0.9962\n",
            "Epoch 47/100\n",
            "66/66 [==============================] - 14s 218ms/step - loss: 0.0030 - accuracy: 0.9993 - val_loss: 0.0399 - val_accuracy: 0.9946\n",
            "Epoch 48/100\n",
            "66/66 [==============================] - 14s 219ms/step - loss: 0.0066 - accuracy: 0.9985 - val_loss: 0.0377 - val_accuracy: 0.9952\n",
            "Epoch 49/100\n",
            "66/66 [==============================] - 14s 217ms/step - loss: 0.0041 - accuracy: 0.9987 - val_loss: 0.0358 - val_accuracy: 0.9938\n",
            "Epoch 50/100\n",
            "66/66 [==============================] - 14s 218ms/step - loss: 0.0053 - accuracy: 0.9989 - val_loss: 0.0493 - val_accuracy: 0.9938\n",
            "Epoch 51/100\n",
            "66/66 [==============================] - 15s 220ms/step - loss: 0.0059 - accuracy: 0.9988 - val_loss: 0.0340 - val_accuracy: 0.9946\n",
            "Epoch 52/100\n",
            "66/66 [==============================] - 14s 219ms/step - loss: 0.0056 - accuracy: 0.9988 - val_loss: 0.0408 - val_accuracy: 0.9949\n",
            "Epoch 53/100\n",
            "66/66 [==============================] - 14s 219ms/step - loss: 0.0070 - accuracy: 0.9986 - val_loss: 0.0428 - val_accuracy: 0.9946\n",
            "Epoch 54/100\n",
            "66/66 [==============================] - 14s 219ms/step - loss: 0.0028 - accuracy: 0.9991 - val_loss: 0.0410 - val_accuracy: 0.9949\n",
            "Epoch 55/100\n",
            "66/66 [==============================] - 14s 218ms/step - loss: 0.0043 - accuracy: 0.9991 - val_loss: 0.0413 - val_accuracy: 0.9949\n",
            "Epoch 56/100\n",
            "66/66 [==============================] - 14s 218ms/step - loss: 0.0034 - accuracy: 0.9990 - val_loss: 0.0482 - val_accuracy: 0.9928\n",
            "Epoch 57/100\n",
            "66/66 [==============================] - 14s 219ms/step - loss: 0.0067 - accuracy: 0.9993 - val_loss: 0.0322 - val_accuracy: 0.9949\n",
            "Epoch 58/100\n",
            "66/66 [==============================] - 14s 219ms/step - loss: 0.0059 - accuracy: 0.9989 - val_loss: 0.0412 - val_accuracy: 0.9933\n",
            "Epoch 59/100\n",
            "66/66 [==============================] - 14s 218ms/step - loss: 0.0043 - accuracy: 0.9993 - val_loss: 0.0348 - val_accuracy: 0.9960\n",
            "Epoch 60/100\n",
            "66/66 [==============================] - 14s 218ms/step - loss: 0.0016 - accuracy: 0.9997 - val_loss: 0.0343 - val_accuracy: 0.9973\n",
            "Epoch 61/100\n",
            "66/66 [==============================] - 14s 218ms/step - loss: 0.0036 - accuracy: 0.9992 - val_loss: 0.0412 - val_accuracy: 0.9949\n",
            "Epoch 62/100\n",
            "66/66 [==============================] - 14s 218ms/step - loss: 0.0027 - accuracy: 0.9991 - val_loss: 0.0442 - val_accuracy: 0.9933\n",
            "Epoch 63/100\n",
            "66/66 [==============================] - 14s 219ms/step - loss: 0.0033 - accuracy: 0.9994 - val_loss: 0.0357 - val_accuracy: 0.9960\n",
            "Epoch 64/100\n",
            "66/66 [==============================] - 14s 219ms/step - loss: 0.0043 - accuracy: 0.9995 - val_loss: 0.0688 - val_accuracy: 0.9882\n",
            "Epoch 65/100\n",
            "66/66 [==============================] - 14s 218ms/step - loss: 0.0069 - accuracy: 0.9989 - val_loss: 0.0409 - val_accuracy: 0.9952\n",
            "Epoch 66/100\n",
            "66/66 [==============================] - 14s 218ms/step - loss: 0.0045 - accuracy: 0.9992 - val_loss: 0.0508 - val_accuracy: 0.9944\n",
            "Epoch 67/100\n",
            "66/66 [==============================] - 14s 218ms/step - loss: 0.0032 - accuracy: 0.9995 - val_loss: 0.0321 - val_accuracy: 0.9965\n",
            "Epoch 68/100\n",
            "66/66 [==============================] - 14s 217ms/step - loss: 0.0049 - accuracy: 0.9989 - val_loss: 0.0421 - val_accuracy: 0.9952\n",
            "Epoch 69/100\n",
            "66/66 [==============================] - 14s 217ms/step - loss: 0.0043 - accuracy: 0.9993 - val_loss: 0.0353 - val_accuracy: 0.9960\n",
            "Epoch 70/100\n",
            "66/66 [==============================] - 14s 218ms/step - loss: 0.0023 - accuracy: 0.9995 - val_loss: 0.0359 - val_accuracy: 0.9946\n",
            "Epoch 71/100\n",
            "66/66 [==============================] - 14s 219ms/step - loss: 0.0049 - accuracy: 0.9990 - val_loss: 0.0394 - val_accuracy: 0.9952\n",
            "Epoch 72/100\n",
            "66/66 [==============================] - 14s 218ms/step - loss: 0.0030 - accuracy: 0.9994 - val_loss: 0.0367 - val_accuracy: 0.9960\n",
            "Epoch 73/100\n",
            "66/66 [==============================] - 14s 218ms/step - loss: 0.0014 - accuracy: 0.9996 - val_loss: 0.0334 - val_accuracy: 0.9960\n",
            "Epoch 74/100\n",
            "66/66 [==============================] - 14s 218ms/step - loss: 0.0023 - accuracy: 0.9993 - val_loss: 0.0342 - val_accuracy: 0.9962\n",
            "Epoch 75/100\n",
            "66/66 [==============================] - 14s 219ms/step - loss: 0.0021 - accuracy: 0.9996 - val_loss: 0.0379 - val_accuracy: 0.9957\n",
            "Epoch 76/100\n",
            "66/66 [==============================] - 14s 219ms/step - loss: 0.0030 - accuracy: 0.9993 - val_loss: 0.0440 - val_accuracy: 0.9954\n",
            "Epoch 77/100\n",
            "66/66 [==============================] - 14s 218ms/step - loss: 0.0025 - accuracy: 0.9996 - val_loss: 0.0389 - val_accuracy: 0.9957\n",
            "Epoch 78/100\n",
            "66/66 [==============================] - 14s 219ms/step - loss: 0.0054 - accuracy: 0.9991 - val_loss: 0.0404 - val_accuracy: 0.9949\n",
            "Epoch 79/100\n",
            "66/66 [==============================] - 14s 218ms/step - loss: 0.0047 - accuracy: 0.9994 - val_loss: 0.0485 - val_accuracy: 0.9949\n",
            "Epoch 80/100\n",
            "66/66 [==============================] - 14s 218ms/step - loss: 0.0013 - accuracy: 0.9998 - val_loss: 0.0369 - val_accuracy: 0.9957\n",
            "Epoch 81/100\n",
            "66/66 [==============================] - 14s 219ms/step - loss: 0.0025 - accuracy: 0.9996 - val_loss: 0.0400 - val_accuracy: 0.9949\n",
            "Epoch 82/100\n",
            "66/66 [==============================] - 14s 218ms/step - loss: 0.0018 - accuracy: 0.9997 - val_loss: 0.0382 - val_accuracy: 0.9957\n",
            "Epoch 83/100\n",
            "66/66 [==============================] - 14s 217ms/step - loss: 0.0019 - accuracy: 0.9996 - val_loss: 0.0429 - val_accuracy: 0.9957\n",
            "Epoch 84/100\n",
            "66/66 [==============================] - 14s 218ms/step - loss: 0.0032 - accuracy: 0.9992 - val_loss: 0.0398 - val_accuracy: 0.9957\n",
            "Epoch 85/100\n",
            "66/66 [==============================] - 14s 217ms/step - loss: 0.0046 - accuracy: 0.9992 - val_loss: 0.0550 - val_accuracy: 0.9938\n",
            "Epoch 86/100\n",
            "66/66 [==============================] - 14s 219ms/step - loss: 0.0011 - accuracy: 0.9997 - val_loss: 0.0436 - val_accuracy: 0.9938\n",
            "Epoch 87/100\n",
            "66/66 [==============================] - 14s 219ms/step - loss: 0.0032 - accuracy: 0.9995 - val_loss: 0.0409 - val_accuracy: 0.9952\n",
            "Epoch 88/100\n",
            "66/66 [==============================] - 14s 218ms/step - loss: 0.0022 - accuracy: 0.9997 - val_loss: 0.0576 - val_accuracy: 0.9928\n",
            "Epoch 89/100\n",
            "66/66 [==============================] - 14s 218ms/step - loss: 0.0046 - accuracy: 0.9995 - val_loss: 0.0421 - val_accuracy: 0.9962\n",
            "Epoch 90/100\n",
            "66/66 [==============================] - 14s 219ms/step - loss: 0.0022 - accuracy: 0.9996 - val_loss: 0.0482 - val_accuracy: 0.9952\n",
            "Epoch 91/100\n",
            "66/66 [==============================] - 14s 218ms/step - loss: 8.7998e-04 - accuracy: 0.9997 - val_loss: 0.0424 - val_accuracy: 0.9968\n",
            "Epoch 92/100\n",
            "66/66 [==============================] - 14s 217ms/step - loss: 6.5428e-04 - accuracy: 0.9999 - val_loss: 0.0432 - val_accuracy: 0.9952\n",
            "Epoch 93/100\n",
            "66/66 [==============================] - 14s 219ms/step - loss: 0.0021 - accuracy: 0.9997 - val_loss: 0.0427 - val_accuracy: 0.9949\n",
            "Epoch 94/100\n",
            "66/66 [==============================] - 14s 218ms/step - loss: 0.0023 - accuracy: 0.9995 - val_loss: 0.0531 - val_accuracy: 0.9957\n",
            "Epoch 95/100\n",
            "66/66 [==============================] - 14s 218ms/step - loss: 8.2063e-04 - accuracy: 0.9997 - val_loss: 0.0516 - val_accuracy: 0.9952\n",
            "Epoch 96/100\n",
            "66/66 [==============================] - 14s 218ms/step - loss: 0.0024 - accuracy: 0.9997 - val_loss: 0.0697 - val_accuracy: 0.9917\n",
            "Epoch 97/100\n",
            "66/66 [==============================] - 14s 218ms/step - loss: 0.0043 - accuracy: 0.9993 - val_loss: 0.0439 - val_accuracy: 0.9962\n",
            "Epoch 98/100\n",
            "66/66 [==============================] - 14s 217ms/step - loss: 0.0066 - accuracy: 0.9991 - val_loss: 0.0400 - val_accuracy: 0.9957\n",
            "Epoch 99/100\n",
            "66/66 [==============================] - 14s 218ms/step - loss: 0.0021 - accuracy: 0.9995 - val_loss: 0.0413 - val_accuracy: 0.9957\n",
            "Epoch 100/100\n",
            "66/66 [==============================] - 14s 218ms/step - loss: 0.0033 - accuracy: 0.9993 - val_loss: 0.0374 - val_accuracy: 0.9957\n",
            "117/117 - 4s - loss: 0.0409 - accuracy: 0.9957\n",
            "\n",
            "Test accuracy: 0.9957127571105957\n"
          ],
          "name": "stdout"
        }
      ]
    },
    {
      "cell_type": "code",
      "metadata": {
        "id": "bPA5MRbul58Z",
        "colab_type": "code",
        "outputId": "a3b613e0-057a-42fd-a471-84c895b6df95",
        "colab": {
          "base_uri": "https://localhost:8080/",
          "height": 1000
        }
      },
      "source": [
        "history = lstm_model.fit(X_train, train_label,\n",
        "          batch_size=batch_size,\n",
        "          epochs=no_epochs,\n",
        "          validation_data=(X_test, test_label),\n",
        "          shuffle=True,\n",
        "          verbose=verbosity)\n",
        "\n",
        "test_loss, test_acc = lstm_model.evaluate(X_test, test_label, verbose=2)\n",
        "print('\\nTest accuracy:', test_acc)"
      ],
      "execution_count": 0,
      "outputs": [
        {
          "output_type": "stream",
          "text": [
            "Epoch 1/100\n",
            "66/66 [==============================] - 7s 108ms/step - loss: 4.1483 - accuracy: 0.0497 - val_loss: 3.8100 - val_accuracy: 0.0798\n",
            "Epoch 2/100\n",
            "66/66 [==============================] - 6s 96ms/step - loss: 3.7522 - accuracy: 0.0783 - val_loss: 3.5512 - val_accuracy: 0.1018\n",
            "Epoch 3/100\n",
            "66/66 [==============================] - 6s 97ms/step - loss: 3.5072 - accuracy: 0.1143 - val_loss: 3.2421 - val_accuracy: 0.1699\n",
            "Epoch 4/100\n",
            "66/66 [==============================] - 6s 98ms/step - loss: 3.2567 - accuracy: 0.1614 - val_loss: 3.0107 - val_accuracy: 0.2272\n",
            "Epoch 5/100\n",
            "66/66 [==============================] - 7s 104ms/step - loss: 3.0238 - accuracy: 0.2082 - val_loss: 2.8842 - val_accuracy: 0.2401\n",
            "Epoch 6/100\n",
            "66/66 [==============================] - 6s 95ms/step - loss: 2.7659 - accuracy: 0.2558 - val_loss: 2.5026 - val_accuracy: 0.3743\n",
            "Epoch 7/100\n",
            "66/66 [==============================] - 6s 96ms/step - loss: 2.5037 - accuracy: 0.3174 - val_loss: 2.3031 - val_accuracy: 0.3684\n",
            "Epoch 8/100\n",
            "66/66 [==============================] - 6s 97ms/step - loss: 2.2790 - accuracy: 0.3710 - val_loss: 2.1676 - val_accuracy: 0.4084\n",
            "Epoch 9/100\n",
            "66/66 [==============================] - 6s 96ms/step - loss: 2.0724 - accuracy: 0.4184 - val_loss: 1.7692 - val_accuracy: 0.4997\n",
            "Epoch 10/100\n",
            "66/66 [==============================] - 6s 96ms/step - loss: 1.9041 - accuracy: 0.4636 - val_loss: 1.8402 - val_accuracy: 0.5019\n",
            "Epoch 11/100\n",
            "66/66 [==============================] - 6s 97ms/step - loss: 1.7325 - accuracy: 0.5115 - val_loss: 1.4260 - val_accuracy: 0.6195\n",
            "Epoch 12/100\n",
            "66/66 [==============================] - 6s 96ms/step - loss: 1.5919 - accuracy: 0.5555 - val_loss: 1.2575 - val_accuracy: 0.6768\n",
            "Epoch 13/100\n",
            "66/66 [==============================] - 6s 97ms/step - loss: 1.4658 - accuracy: 0.5863 - val_loss: 1.2573 - val_accuracy: 0.6541\n",
            "Epoch 14/100\n",
            "66/66 [==============================] - 6s 97ms/step - loss: 1.3389 - accuracy: 0.6242 - val_loss: 1.3114 - val_accuracy: 0.6227\n",
            "Epoch 15/100\n",
            "66/66 [==============================] - 6s 98ms/step - loss: 1.2676 - accuracy: 0.6459 - val_loss: 0.9761 - val_accuracy: 0.7503\n",
            "Epoch 16/100\n",
            "66/66 [==============================] - 6s 96ms/step - loss: 1.1465 - accuracy: 0.6805 - val_loss: 0.8863 - val_accuracy: 0.7583\n",
            "Epoch 17/100\n",
            "66/66 [==============================] - 6s 96ms/step - loss: 1.0562 - accuracy: 0.7085 - val_loss: 0.8105 - val_accuracy: 0.7856\n",
            "Epoch 18/100\n",
            "66/66 [==============================] - 6s 96ms/step - loss: 1.0038 - accuracy: 0.7262 - val_loss: 0.8714 - val_accuracy: 0.7546\n",
            "Epoch 19/100\n",
            "66/66 [==============================] - 6s 97ms/step - loss: 0.9074 - accuracy: 0.7563 - val_loss: 0.8511 - val_accuracy: 0.7704\n",
            "Epoch 20/100\n",
            "66/66 [==============================] - 6s 97ms/step - loss: 0.8367 - accuracy: 0.7805 - val_loss: 0.6262 - val_accuracy: 0.8376\n",
            "Epoch 21/100\n",
            "66/66 [==============================] - 6s 96ms/step - loss: 0.7827 - accuracy: 0.7962 - val_loss: 0.7373 - val_accuracy: 0.8036\n",
            "Epoch 22/100\n",
            "66/66 [==============================] - 6s 96ms/step - loss: 0.7001 - accuracy: 0.8220 - val_loss: 0.4399 - val_accuracy: 0.8816\n",
            "Epoch 23/100\n",
            "66/66 [==============================] - 6s 96ms/step - loss: 0.6507 - accuracy: 0.8375 - val_loss: 0.4228 - val_accuracy: 0.8952\n",
            "Epoch 24/100\n",
            "66/66 [==============================] - 6s 96ms/step - loss: 0.6049 - accuracy: 0.8516 - val_loss: 0.4261 - val_accuracy: 0.8856\n",
            "Epoch 25/100\n",
            "66/66 [==============================] - 6s 97ms/step - loss: 0.5580 - accuracy: 0.8660 - val_loss: 0.2819 - val_accuracy: 0.9325\n",
            "Epoch 26/100\n",
            "66/66 [==============================] - 6s 97ms/step - loss: 0.5037 - accuracy: 0.8787 - val_loss: 0.3074 - val_accuracy: 0.9215\n",
            "Epoch 27/100\n",
            "66/66 [==============================] - 6s 97ms/step - loss: 0.4719 - accuracy: 0.8871 - val_loss: 0.4072 - val_accuracy: 0.8923\n",
            "Epoch 28/100\n",
            "66/66 [==============================] - 6s 97ms/step - loss: 0.4204 - accuracy: 0.9016 - val_loss: 0.2692 - val_accuracy: 0.9247\n",
            "Epoch 29/100\n",
            "66/66 [==============================] - 6s 96ms/step - loss: 0.3978 - accuracy: 0.9065 - val_loss: 0.2743 - val_accuracy: 0.9287\n",
            "Epoch 30/100\n",
            "66/66 [==============================] - 6s 98ms/step - loss: 0.3907 - accuracy: 0.9087 - val_loss: 0.1863 - val_accuracy: 0.9504\n",
            "Epoch 31/100\n",
            "66/66 [==============================] - 6s 96ms/step - loss: 0.3594 - accuracy: 0.9190 - val_loss: 0.2284 - val_accuracy: 0.9432\n",
            "Epoch 32/100\n",
            "66/66 [==============================] - 6s 96ms/step - loss: 0.3679 - accuracy: 0.9177 - val_loss: 0.2716 - val_accuracy: 0.9333\n",
            "Epoch 33/100\n",
            "66/66 [==============================] - 6s 96ms/step - loss: 0.3490 - accuracy: 0.9209 - val_loss: 0.1756 - val_accuracy: 0.9526\n",
            "Epoch 34/100\n",
            "66/66 [==============================] - 6s 96ms/step - loss: 0.2935 - accuracy: 0.9339 - val_loss: 0.2306 - val_accuracy: 0.9344\n",
            "Epoch 35/100\n",
            "66/66 [==============================] - 6s 96ms/step - loss: 0.2878 - accuracy: 0.9366 - val_loss: 0.1335 - val_accuracy: 0.9686\n",
            "Epoch 36/100\n",
            "66/66 [==============================] - 6s 97ms/step - loss: 0.2794 - accuracy: 0.9374 - val_loss: 0.1345 - val_accuracy: 0.9660\n",
            "Epoch 37/100\n",
            "66/66 [==============================] - 6s 97ms/step - loss: 0.2484 - accuracy: 0.9457 - val_loss: 0.2740 - val_accuracy: 0.9282\n",
            "Epoch 38/100\n",
            "66/66 [==============================] - 6s 97ms/step - loss: 0.2569 - accuracy: 0.9432 - val_loss: 0.1356 - val_accuracy: 0.9644\n",
            "Epoch 39/100\n",
            "66/66 [==============================] - 6s 96ms/step - loss: 0.2357 - accuracy: 0.9500 - val_loss: 0.1899 - val_accuracy: 0.9494\n",
            "Epoch 40/100\n",
            "66/66 [==============================] - 6s 97ms/step - loss: 0.2041 - accuracy: 0.9575 - val_loss: 0.1046 - val_accuracy: 0.9729\n",
            "Epoch 41/100\n",
            "66/66 [==============================] - 6s 96ms/step - loss: 0.2221 - accuracy: 0.9509 - val_loss: 0.1128 - val_accuracy: 0.9703\n",
            "Epoch 42/100\n",
            "66/66 [==============================] - 6s 97ms/step - loss: 0.2190 - accuracy: 0.9515 - val_loss: 0.0895 - val_accuracy: 0.9799\n",
            "Epoch 43/100\n",
            "66/66 [==============================] - 6s 97ms/step - loss: 0.1934 - accuracy: 0.9584 - val_loss: 0.0929 - val_accuracy: 0.9772\n",
            "Epoch 44/100\n",
            "66/66 [==============================] - 6s 97ms/step - loss: 0.1790 - accuracy: 0.9625 - val_loss: 0.3831 - val_accuracy: 0.9043\n",
            "Epoch 45/100\n",
            "66/66 [==============================] - 6s 96ms/step - loss: 0.1778 - accuracy: 0.9616 - val_loss: 0.1094 - val_accuracy: 0.9743\n",
            "Epoch 46/100\n",
            "66/66 [==============================] - 6s 97ms/step - loss: 0.1899 - accuracy: 0.9602 - val_loss: 0.1027 - val_accuracy: 0.9729\n",
            "Epoch 47/100\n",
            "66/66 [==============================] - 6s 96ms/step - loss: 0.1813 - accuracy: 0.9602 - val_loss: 0.0678 - val_accuracy: 0.9842\n",
            "Epoch 48/100\n",
            "66/66 [==============================] - 6s 96ms/step - loss: 0.1536 - accuracy: 0.9672 - val_loss: 0.0891 - val_accuracy: 0.9770\n",
            "Epoch 49/100\n",
            "66/66 [==============================] - 6s 97ms/step - loss: 0.1516 - accuracy: 0.9696 - val_loss: 0.0627 - val_accuracy: 0.9869\n",
            "Epoch 50/100\n",
            "66/66 [==============================] - 6s 97ms/step - loss: 0.1496 - accuracy: 0.9693 - val_loss: 0.0624 - val_accuracy: 0.9842\n",
            "Epoch 51/100\n",
            "66/66 [==============================] - 6s 96ms/step - loss: 0.1319 - accuracy: 0.9735 - val_loss: 0.3367 - val_accuracy: 0.9218\n",
            "Epoch 52/100\n",
            "66/66 [==============================] - 6s 97ms/step - loss: 0.1557 - accuracy: 0.9676 - val_loss: 0.0606 - val_accuracy: 0.9845\n",
            "Epoch 53/100\n",
            "66/66 [==============================] - 6s 96ms/step - loss: 0.1252 - accuracy: 0.9747 - val_loss: 0.1721 - val_accuracy: 0.9566\n",
            "Epoch 54/100\n",
            "66/66 [==============================] - 6s 96ms/step - loss: 0.1251 - accuracy: 0.9749 - val_loss: 0.0648 - val_accuracy: 0.9847\n",
            "Epoch 55/100\n",
            "66/66 [==============================] - 6s 97ms/step - loss: 0.1298 - accuracy: 0.9736 - val_loss: 0.0537 - val_accuracy: 0.9874\n",
            "Epoch 56/100\n",
            "66/66 [==============================] - 6s 97ms/step - loss: 0.1063 - accuracy: 0.9786 - val_loss: 0.0740 - val_accuracy: 0.9820\n",
            "Epoch 57/100\n",
            "66/66 [==============================] - 6s 96ms/step - loss: 0.1190 - accuracy: 0.9753 - val_loss: 0.0775 - val_accuracy: 0.9799\n",
            "Epoch 58/100\n",
            "66/66 [==============================] - 6s 97ms/step - loss: 0.1132 - accuracy: 0.9780 - val_loss: 0.0547 - val_accuracy: 0.9869\n",
            "Epoch 59/100\n",
            "66/66 [==============================] - 6s 95ms/step - loss: 0.1062 - accuracy: 0.9780 - val_loss: 0.0505 - val_accuracy: 0.9887\n",
            "Epoch 60/100\n",
            "66/66 [==============================] - 6s 97ms/step - loss: 0.1172 - accuracy: 0.9751 - val_loss: 0.0766 - val_accuracy: 0.9831\n",
            "Epoch 61/100\n",
            "66/66 [==============================] - 6s 97ms/step - loss: 0.0958 - accuracy: 0.9802 - val_loss: 0.0476 - val_accuracy: 0.9882\n",
            "Epoch 62/100\n",
            "66/66 [==============================] - 6s 98ms/step - loss: 0.1030 - accuracy: 0.9795 - val_loss: 0.0526 - val_accuracy: 0.9877\n",
            "Epoch 63/100\n",
            "66/66 [==============================] - 6s 97ms/step - loss: 0.1043 - accuracy: 0.9787 - val_loss: 0.1424 - val_accuracy: 0.9646\n",
            "Epoch 64/100\n",
            "66/66 [==============================] - 6s 96ms/step - loss: 0.0994 - accuracy: 0.9791 - val_loss: 0.0505 - val_accuracy: 0.9874\n",
            "Epoch 65/100\n",
            "66/66 [==============================] - 6s 97ms/step - loss: 0.1022 - accuracy: 0.9789 - val_loss: 0.0648 - val_accuracy: 0.9866\n",
            "Epoch 66/100\n",
            "66/66 [==============================] - 6s 98ms/step - loss: 0.1090 - accuracy: 0.9770 - val_loss: 0.0710 - val_accuracy: 0.9834\n",
            "Epoch 67/100\n",
            "66/66 [==============================] - 6s 97ms/step - loss: 0.0984 - accuracy: 0.9796 - val_loss: 0.0717 - val_accuracy: 0.9826\n",
            "Epoch 68/100\n",
            "66/66 [==============================] - 6s 98ms/step - loss: 0.0896 - accuracy: 0.9814 - val_loss: 0.0708 - val_accuracy: 0.9837\n",
            "Epoch 69/100\n",
            "66/66 [==============================] - 6s 97ms/step - loss: 0.0912 - accuracy: 0.9810 - val_loss: 0.0463 - val_accuracy: 0.9890\n",
            "Epoch 70/100\n",
            "66/66 [==============================] - 6s 96ms/step - loss: 0.0790 - accuracy: 0.9834 - val_loss: 0.0786 - val_accuracy: 0.9831\n",
            "Epoch 71/100\n",
            "66/66 [==============================] - 6s 96ms/step - loss: 0.0830 - accuracy: 0.9823 - val_loss: 0.0524 - val_accuracy: 0.9882\n",
            "Epoch 72/100\n",
            "66/66 [==============================] - 6s 98ms/step - loss: 0.0793 - accuracy: 0.9837 - val_loss: 0.1098 - val_accuracy: 0.9772\n",
            "Epoch 73/100\n",
            "66/66 [==============================] - 6s 96ms/step - loss: 0.0964 - accuracy: 0.9804 - val_loss: 0.0398 - val_accuracy: 0.9909\n",
            "Epoch 74/100\n",
            "66/66 [==============================] - 6s 98ms/step - loss: 0.0800 - accuracy: 0.9836 - val_loss: 0.0415 - val_accuracy: 0.9904\n",
            "Epoch 75/100\n",
            "66/66 [==============================] - 6s 97ms/step - loss: 0.0853 - accuracy: 0.9819 - val_loss: 0.0442 - val_accuracy: 0.9890\n",
            "Epoch 76/100\n",
            "66/66 [==============================] - 6s 96ms/step - loss: 0.0792 - accuracy: 0.9830 - val_loss: 0.1699 - val_accuracy: 0.9681\n",
            "Epoch 77/100\n",
            "66/66 [==============================] - 6s 98ms/step - loss: 0.0822 - accuracy: 0.9828 - val_loss: 0.0571 - val_accuracy: 0.9847\n",
            "Epoch 78/100\n",
            "66/66 [==============================] - 6s 98ms/step - loss: 0.0691 - accuracy: 0.9856 - val_loss: 0.1017 - val_accuracy: 0.9780\n",
            "Epoch 79/100\n",
            "66/66 [==============================] - 6s 97ms/step - loss: 0.0789 - accuracy: 0.9831 - val_loss: 0.0458 - val_accuracy: 0.9890\n",
            "Epoch 80/100\n",
            "66/66 [==============================] - 6s 97ms/step - loss: 0.0803 - accuracy: 0.9835 - val_loss: 0.0408 - val_accuracy: 0.9912\n",
            "Epoch 81/100\n",
            "66/66 [==============================] - 6s 96ms/step - loss: 0.0680 - accuracy: 0.9858 - val_loss: 0.0451 - val_accuracy: 0.9890\n",
            "Epoch 82/100\n",
            "66/66 [==============================] - 6s 97ms/step - loss: 0.0737 - accuracy: 0.9840 - val_loss: 0.0507 - val_accuracy: 0.9885\n",
            "Epoch 83/100\n",
            "66/66 [==============================] - 6s 97ms/step - loss: 0.0754 - accuracy: 0.9851 - val_loss: 0.0463 - val_accuracy: 0.9904\n",
            "Epoch 84/100\n",
            "66/66 [==============================] - 6s 97ms/step - loss: 0.0748 - accuracy: 0.9845 - val_loss: 0.0342 - val_accuracy: 0.9922\n",
            "Epoch 85/100\n",
            "66/66 [==============================] - 6s 97ms/step - loss: 0.0709 - accuracy: 0.9857 - val_loss: 0.0383 - val_accuracy: 0.9906\n",
            "Epoch 86/100\n",
            "66/66 [==============================] - 6s 97ms/step - loss: 0.0713 - accuracy: 0.9857 - val_loss: 0.0397 - val_accuracy: 0.9901\n",
            "Epoch 87/100\n",
            "66/66 [==============================] - 6s 96ms/step - loss: 0.0583 - accuracy: 0.9873 - val_loss: 0.0394 - val_accuracy: 0.9920\n",
            "Epoch 88/100\n",
            "66/66 [==============================] - 6s 97ms/step - loss: 0.0690 - accuracy: 0.9857 - val_loss: 0.0424 - val_accuracy: 0.9925\n",
            "Epoch 89/100\n",
            "66/66 [==============================] - 6s 98ms/step - loss: 0.0788 - accuracy: 0.9842 - val_loss: 0.0838 - val_accuracy: 0.9818\n",
            "Epoch 90/100\n",
            "66/66 [==============================] - 6s 96ms/step - loss: 0.0684 - accuracy: 0.9864 - val_loss: 0.0482 - val_accuracy: 0.9893\n",
            "Epoch 91/100\n",
            "66/66 [==============================] - 6s 96ms/step - loss: 0.0664 - accuracy: 0.9860 - val_loss: 0.0419 - val_accuracy: 0.9904\n",
            "Epoch 92/100\n",
            "66/66 [==============================] - 6s 97ms/step - loss: 0.0552 - accuracy: 0.9884 - val_loss: 0.0475 - val_accuracy: 0.9890\n",
            "Epoch 93/100\n",
            "66/66 [==============================] - 7s 99ms/step - loss: 0.0650 - accuracy: 0.9868 - val_loss: 0.0372 - val_accuracy: 0.9912\n",
            "Epoch 94/100\n",
            "66/66 [==============================] - 6s 96ms/step - loss: 0.0629 - accuracy: 0.9865 - val_loss: 0.1019 - val_accuracy: 0.9753\n",
            "Epoch 95/100\n",
            "66/66 [==============================] - 7s 99ms/step - loss: 0.0607 - accuracy: 0.9870 - val_loss: 0.1126 - val_accuracy: 0.9812\n",
            "Epoch 96/100\n",
            "66/66 [==============================] - 6s 97ms/step - loss: 0.0588 - accuracy: 0.9877 - val_loss: 0.0381 - val_accuracy: 0.9912\n",
            "Epoch 97/100\n",
            "66/66 [==============================] - 6s 97ms/step - loss: 0.0576 - accuracy: 0.9874 - val_loss: 0.0343 - val_accuracy: 0.9920\n",
            "Epoch 98/100\n",
            "66/66 [==============================] - 6s 96ms/step - loss: 0.0687 - accuracy: 0.9861 - val_loss: 0.1763 - val_accuracy: 0.9644\n",
            "Epoch 99/100\n",
            "66/66 [==============================] - 6s 97ms/step - loss: 0.0518 - accuracy: 0.9890 - val_loss: 0.0547 - val_accuracy: 0.9874\n",
            "Epoch 100/100\n",
            "66/66 [==============================] - 6s 97ms/step - loss: 0.0605 - accuracy: 0.9872 - val_loss: 0.0326 - val_accuracy: 0.9914\n",
            "117/117 - 2s - loss: 0.0354 - accuracy: 0.9914\n",
            "\n",
            "Test accuracy: 0.9914255142211914\n"
          ],
          "name": "stdout"
        }
      ]
    },
    {
      "cell_type": "markdown",
      "metadata": {
        "id": "DXlRqw5DO7dh",
        "colab_type": "text"
      },
      "source": [
        "# Plot loss/epoch "
      ]
    },
    {
      "cell_type": "code",
      "metadata": {
        "id": "DUmn0dkNEBea",
        "colab_type": "code",
        "outputId": "1879231c-c0a6-4232-e778-b67b55d2312d",
        "colab": {
          "base_uri": "https://localhost:8080/",
          "height": 295
        }
      },
      "source": [
        "import matplotlib.pyplot as plt\n",
        "\n",
        "plt.plot(history.history['loss'])\n",
        "plt.title('loss')\n",
        "plt.ylabel('loss')\n",
        "plt.xlabel('epoch')\n",
        "plt.legend(['loss'], loc='upper left')\n",
        "plt.show()"
      ],
      "execution_count": 0,
      "outputs": [
        {
          "output_type": "display_data",
          "data": {
            "image/png": "[encoded data removed]",
            "text/plain": [
              "<Figure size 432x288 with 1 Axes>"
            ]
          },
          "metadata": {
            "tags": []
          }
        }
      ]
    },
    {
      "cell_type": "code",
      "metadata": {
        "id": "K-b6K4Bg_ht3",
        "colab_type": "code",
        "colab": {}
      },
      "source": [
        "Find wrongly predicted classes"
      ],
      "execution_count": 0,
      "outputs": []
    },
    {
      "cell_type": "code",
      "metadata": {
        "id": "7q77j_hJ_j9X",
        "colab_type": "code",
        "outputId": "f2512d34-7705-4f16-adf7-4f7693ad3ec9",
        "colab": {
          "base_uri": "https://localhost:8080/",
          "height": 547
        }
      },
      "source": [
        "import sys\n",
        "# import numpy\n",
        "# numpy.set_printoptions(threshold=1000)\n",
        "\n",
        "y_pred1 = lstm_model.predict(X_test)\n",
        "pred_arr = np.argmax(y_pred1,axis=1)\n",
        "print(pred_arr.shape)\n",
        "one_hot_targets = np.eye(118)[pred_arr]\n",
        "print(one_hot_targets.shape)\n",
        "print(test_label.shape)\n",
        "# print(pred_arr.reshape((-1,)).shape)\n",
        "# print(pred_arr.reshape((-1,)))\n",
        "# display(test_label.reshape((-1,)))\n",
        "print(one_hot_targets)\n",
        "incorrects = np.nonzero(one_hot_targets != test_label)\n",
        "print(incorrects)\n",
        "wrongly_pred_samples, classes = incorrects\n",
        "print('no. of samples wrongly pred', len(wrongly_pred_samples))\n",
        "print(sorted(set(classes)))\n",
        "print(len(sorted(set(classes))))"
      ],
      "execution_count": 0,
      "outputs": [
        {
          "output_type": "stream",
          "text": [
            "(2928,)\n",
            "(2928, 118)\n",
            "(2928, 118)\n",
            "[[0. 0. 0. ... 0. 0. 0.]\n",
            " [0. 0. 0. ... 0. 0. 0.]\n",
            " [0. 0. 0. ... 0. 0. 0.]\n",
            " ...\n",
            " [0. 0. 0. ... 0. 0. 0.]\n",
            " [0. 0. 0. ... 0. 0. 0.]\n",
            " [0. 1. 0. ... 0. 0. 0.]]\n",
            "(array([  24,   24,   46,   46,   97,   97,  143,  143,  209,  209,  245,\n",
            "        245,  246,  246,  367,  367,  432,  432,  459,  459,  468,  468,\n",
            "        521,  521,  582,  582,  588,  588,  733,  733,  746,  746,  807,\n",
            "        807,  872,  872, 1072, 1072, 1177, 1177, 1246, 1246, 1247, 1247,\n",
            "       1322, 1322, 1433, 1433, 1531, 1531, 1544, 1544, 1571, 1571, 1660,\n",
            "       1660, 1736, 1736, 1738, 1738, 1739, 1739, 1761, 1761, 1767, 1767,\n",
            "       1890, 1890, 1926, 1926, 1965, 1965, 2071, 2071, 2156, 2156, 2266,\n",
            "       2266, 2409, 2409, 2425, 2425, 2482, 2482, 2614, 2614, 2629, 2629,\n",
            "       2653, 2653, 2664, 2664, 2692, 2692, 2714, 2714, 2732, 2732, 2849,\n",
            "       2849]), array([ 34,  48,  79, 110,  57,  66,  44, 105,  43,  68,  43,  49,  20,\n",
            "        57,  55,  90,  68,  75,  22,  84,  88, 107,  34,  48,  43,  92,\n",
            "        36, 106,  89,  98,  45,  73,  12,  97,  26,  79,   6,  22,  38,\n",
            "       113,  43,  92,   6,  79,  19,  48,   3,  96,   3,  25,  65, 117,\n",
            "        53, 108,  22,  78,  57, 113,  57, 106,  55,  71,  11,  58,  20,\n",
            "       117,  68,  79,  48,  92,  76,  80,   2,  85,  25,  76,  55,  62,\n",
            "         2,  48,   2, 110,  17,  79,   2,  72,  45, 105,   2,  67,  50,\n",
            "        92,  48,  55,  59, 104,  45,  51,   2,  40]))\n",
            "no. of samples wrongly pred 100\n",
            "[2, 3, 6, 11, 12, 17, 19, 20, 22, 25, 26, 34, 36, 38, 40, 43, 44, 45, 48, 49, 50, 51, 53, 55, 57, 58, 59, 62, 65, 66, 67, 68, 71, 72, 73, 75, 76, 78, 79, 80, 84, 85, 88, 89, 90, 92, 96, 97, 98, 104, 105, 106, 107, 108, 110, 113, 117]\n",
            "57\n"
          ],
          "name": "stdout"
        }
      ]
    },
    {
      "cell_type": "code",
      "metadata": {
        "id": "Y6Ii9m-N_m9x",
        "colab_type": "code",
        "outputId": "acb41bc7-c51e-4fc6-a63c-0f6fc369d122",
        "colab": {
          "base_uri": "https://localhost:8080/",
          "height": 754
        }
      },
      "source": [
        "from tensorflow.keras.models import Sequential\n",
        "from tensorflow.keras.layers import Dense\n",
        "from tensorflow.keras.utils import plot_model\n",
        "\n",
        "plot_model(lstm_model, to_file='model_plot.png', show_shapes=True, show_layer_names=True)"
      ],
      "execution_count": 0,
      "outputs": [
        {
          "output_type": "execute_result",
          "data": {
            "image/png": "[encoded data removed]",
            "text/plain": [
              "<IPython.core.display.Image object>"
            ]
          },
          "metadata": {
            "tags": []
          },
          "execution_count": 14
        }
      ]
    },
    {
      "cell_type": "code",
      "metadata": {
        "id": "EoVViUQIKxbv",
        "colab_type": "code",
        "colab": {}
      },
      "source": [
        "from tensorflow.keras import backend as K\n",
        "K.clear_session()"
      ],
      "execution_count": 0,
      "outputs": []
    },
    {
      "cell_type": "code",
      "metadata": {
        "id": "zqgy_A-1OdV0",
        "colab_type": "code",
        "colab": {}
      },
      "source": [
        ""
      ],
      "execution_count": 0,
      "outputs": []
    }
  ]
}